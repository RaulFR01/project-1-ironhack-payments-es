{
 "cells": [
  {
   "cell_type": "code",
   "execution_count": 21,
   "metadata": {},
   "outputs": [],
   "source": [
    "import pandas as pd"
   ]
  },
  {
   "cell_type": "code",
   "execution_count": 22,
   "metadata": {},
   "outputs": [],
   "source": [
    "cash = pd.read_csv('project_dataset/extract - cash request - data analyst.csv')\n",
    "fees = pd.read_csv('project_dataset/extract - fees - data analyst - .csv')"
   ]
  },
  {
   "cell_type": "code",
   "execution_count": 23,
   "metadata": {},
   "outputs": [],
   "source": [
    "cash['user_id'] = cash['user_id'].fillna(cash['deleted_account_id'])"
   ]
  },
  {
   "cell_type": "code",
   "execution_count": 24,
   "metadata": {},
   "outputs": [
    {
     "data": {
      "text/html": [
       "<div>\n",
       "<style scoped>\n",
       "    .dataframe tbody tr th:only-of-type {\n",
       "        vertical-align: middle;\n",
       "    }\n",
       "\n",
       "    .dataframe tbody tr th {\n",
       "        vertical-align: top;\n",
       "    }\n",
       "\n",
       "    .dataframe thead th {\n",
       "        text-align: right;\n",
       "    }\n",
       "</style>\n",
       "<table border=\"1\" class=\"dataframe\">\n",
       "  <thead>\n",
       "    <tr style=\"text-align: right;\">\n",
       "      <th></th>\n",
       "      <th>id</th>\n",
       "      <th>cash_request_id</th>\n",
       "      <th>type</th>\n",
       "      <th>status</th>\n",
       "      <th>category</th>\n",
       "      <th>total_amount</th>\n",
       "      <th>reason</th>\n",
       "      <th>created_at</th>\n",
       "      <th>updated_at</th>\n",
       "      <th>paid_at</th>\n",
       "      <th>from_date</th>\n",
       "      <th>to_date</th>\n",
       "      <th>charge_moment</th>\n",
       "    </tr>\n",
       "  </thead>\n",
       "  <tbody>\n",
       "    <tr>\n",
       "      <th>1911</th>\n",
       "      <td>2990</td>\n",
       "      <td>NaN</td>\n",
       "      <td>instant_payment</td>\n",
       "      <td>cancelled</td>\n",
       "      <td>NaN</td>\n",
       "      <td>5.0</td>\n",
       "      <td>Instant Payment Cash Request 11164</td>\n",
       "      <td>2020-08-06 22:42:34.525373+00</td>\n",
       "      <td>2020-11-04 16:01:17.296048+00</td>\n",
       "      <td>NaN</td>\n",
       "      <td>NaN</td>\n",
       "      <td>NaN</td>\n",
       "      <td>after</td>\n",
       "    </tr>\n",
       "    <tr>\n",
       "      <th>1960</th>\n",
       "      <td>3124</td>\n",
       "      <td>NaN</td>\n",
       "      <td>instant_payment</td>\n",
       "      <td>cancelled</td>\n",
       "      <td>NaN</td>\n",
       "      <td>5.0</td>\n",
       "      <td>Instant Payment Cash Request 11444</td>\n",
       "      <td>2020-08-08 06:33:06.244651+00</td>\n",
       "      <td>2020-11-04 16:01:08.332978+00</td>\n",
       "      <td>NaN</td>\n",
       "      <td>NaN</td>\n",
       "      <td>NaN</td>\n",
       "      <td>after</td>\n",
       "    </tr>\n",
       "    <tr>\n",
       "      <th>4605</th>\n",
       "      <td>5185</td>\n",
       "      <td>NaN</td>\n",
       "      <td>instant_payment</td>\n",
       "      <td>cancelled</td>\n",
       "      <td>NaN</td>\n",
       "      <td>5.0</td>\n",
       "      <td>Instant Payment Cash Request 11788</td>\n",
       "      <td>2020-08-26 09:39:37.362933+00</td>\n",
       "      <td>2020-11-04 16:01:36.492576+00</td>\n",
       "      <td>NaN</td>\n",
       "      <td>NaN</td>\n",
       "      <td>NaN</td>\n",
       "      <td>after</td>\n",
       "    </tr>\n",
       "    <tr>\n",
       "      <th>11870</th>\n",
       "      <td>3590</td>\n",
       "      <td>NaN</td>\n",
       "      <td>instant_payment</td>\n",
       "      <td>cancelled</td>\n",
       "      <td>NaN</td>\n",
       "      <td>5.0</td>\n",
       "      <td>Instant Payment Cash Request 12212</td>\n",
       "      <td>2020-08-12 14:20:06.657075+00</td>\n",
       "      <td>2020-11-04 16:01:53.106416+00</td>\n",
       "      <td>NaN</td>\n",
       "      <td>NaN</td>\n",
       "      <td>NaN</td>\n",
       "      <td>after</td>\n",
       "    </tr>\n",
       "  </tbody>\n",
       "</table>\n",
       "</div>"
      ],
      "text/plain": [
       "         id  cash_request_id             type     status category  \\\n",
       "1911   2990              NaN  instant_payment  cancelled      NaN   \n",
       "1960   3124              NaN  instant_payment  cancelled      NaN   \n",
       "4605   5185              NaN  instant_payment  cancelled      NaN   \n",
       "11870  3590              NaN  instant_payment  cancelled      NaN   \n",
       "\n",
       "       total_amount                              reason  \\\n",
       "1911            5.0  Instant Payment Cash Request 11164   \n",
       "1960            5.0  Instant Payment Cash Request 11444   \n",
       "4605            5.0  Instant Payment Cash Request 11788   \n",
       "11870           5.0  Instant Payment Cash Request 12212   \n",
       "\n",
       "                          created_at                     updated_at paid_at  \\\n",
       "1911   2020-08-06 22:42:34.525373+00  2020-11-04 16:01:17.296048+00     NaN   \n",
       "1960   2020-08-08 06:33:06.244651+00  2020-11-04 16:01:08.332978+00     NaN   \n",
       "4605   2020-08-26 09:39:37.362933+00  2020-11-04 16:01:36.492576+00     NaN   \n",
       "11870  2020-08-12 14:20:06.657075+00  2020-11-04 16:01:53.106416+00     NaN   \n",
       "\n",
       "      from_date to_date charge_moment  \n",
       "1911        NaN     NaN         after  \n",
       "1960        NaN     NaN         after  \n",
       "4605        NaN     NaN         after  \n",
       "11870       NaN     NaN         after  "
      ]
     },
     "execution_count": 24,
     "metadata": {},
     "output_type": "execute_result"
    }
   ],
   "source": [
    "filas = fees[fees['cash_request_id'].isna()]\n",
    "filas"
   ]
  },
  {
   "cell_type": "code",
   "execution_count": 25,
   "metadata": {},
   "outputs": [
    {
     "data": {
      "text/plain": [
       "['11164', '11444', '11788', '12212']"
      ]
     },
     "execution_count": 25,
     "metadata": {},
     "output_type": "execute_result"
    }
   ],
   "source": [
    "ids = []\n",
    "for indice in filas.index:\n",
    "    nuevo_valor = filas.at[indice, 'reason'][-6:].strip()\n",
    "    if nuevo_valor not in cash['id']:\n",
    "        ids.append(nuevo_valor)\n",
    "ids"
   ]
  },
  {
   "cell_type": "code",
   "execution_count": 26,
   "metadata": {},
   "outputs": [],
   "source": [
    "for indice in filas.index:\n",
    "    fees.drop(indice, axis=0, inplace=True)"
   ]
  },
  {
   "cell_type": "code",
   "execution_count": 27,
   "metadata": {},
   "outputs": [],
   "source": [
    "cash['created_at'] = pd.to_datetime(cash['created_at'])\n",
    "cash['reco_creation'] = pd.to_datetime(cash['reco_creation'])\n",
    "cash['reco_creation'] = pd.to_datetime(cash['reco_creation'],format='ISO8601')\n",
    "cash['reco_last_update'] = pd.to_datetime(cash['reco_last_update'])\n",
    "cash['reimbursement_date'] = pd.to_datetime(cash['reco_creation'],format='ISO8601')"
   ]
  },
  {
   "cell_type": "code",
   "execution_count": 28,
   "metadata": {},
   "outputs": [],
   "source": [
    "cash.to_csv('project_dataset/cash-clean.csv')\n",
    "fees.to_csv('project_dataset/fees-clean.csv')"
   ]
  }
 ],
 "metadata": {
  "kernelspec": {
   "display_name": "Python 3",
   "language": "python",
   "name": "python3"
  },
  "language_info": {
   "codemirror_mode": {
    "name": "ipython",
    "version": 3
   },
   "file_extension": ".py",
   "mimetype": "text/x-python",
   "name": "python",
   "nbconvert_exporter": "python",
   "pygments_lexer": "ipython3",
   "version": "3.11.9"
  }
 },
 "nbformat": 4,
 "nbformat_minor": 2
}
