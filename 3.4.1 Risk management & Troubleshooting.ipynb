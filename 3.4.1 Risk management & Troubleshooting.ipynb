{
 "cells": [
  {
   "cell_type": "markdown",
   "metadata": {},
   "source": [
    "# **Risk management**"
   ]
  },
  {
   "cell_type": "markdown",
   "metadata": {},
   "source": [
    "Risk management in a payment company involves identifying, assessing, and mitigating potential threats to financial transactions, ensuring security, compliance, and continuity of services while safeguarding against fraud and financial losses."
   ]
  },
  {
   "cell_type": "markdown",
   "metadata": {},
   "source": [
    "In order to the well-functioning of the company, improving the service and driving to the success we need to understand the potential risks that may affect to our company"
   ]
  },
  {
   "cell_type": "markdown",
   "metadata": {},
   "source": [
    "In the following analysis we will try to observe and study the different incidents in our system using the different information about the reimbursement dates and incidents with them.\n"
   ]
  },
  {
   "cell_type": "code",
   "execution_count": 26,
   "metadata": {},
   "outputs": [],
   "source": [
    "import os\n",
    "import numpy as np"
   ]
  },
  {
   "cell_type": "code",
   "execution_count": 27,
   "metadata": {},
   "outputs": [],
   "source": [
    "import pandas as pd"
   ]
  },
  {
   "cell_type": "code",
   "execution_count": 28,
   "metadata": {},
   "outputs": [],
   "source": [
    "import matplotlib.pyplot as plt\n",
    "import seaborn as sns"
   ]
  },
  {
   "cell_type": "code",
   "execution_count": 29,
   "metadata": {},
   "outputs": [
    {
     "name": "stdout",
     "output_type": "stream",
     "text": [
      "Index(['id', 'amount', 'status', 'created_at', 'updated_at', 'user_id',\n",
      "       'moderated_at', 'deleted_account_id', 'reimbursement_date',\n",
      "       'cash_request_received_date', 'money_back_date', 'transfer_type',\n",
      "       'send_at', 'recovery_status', 'reco_creation', 'reco_last_update'],\n",
      "      dtype='object')\n"
     ]
    },
    {
     "data": {
      "text/html": [
       "<div>\n",
       "<style scoped>\n",
       "    .dataframe tbody tr th:only-of-type {\n",
       "        vertical-align: middle;\n",
       "    }\n",
       "\n",
       "    .dataframe tbody tr th {\n",
       "        vertical-align: top;\n",
       "    }\n",
       "\n",
       "    .dataframe thead th {\n",
       "        text-align: right;\n",
       "    }\n",
       "</style>\n",
       "<table border=\"1\" class=\"dataframe\">\n",
       "  <thead>\n",
       "    <tr style=\"text-align: right;\">\n",
       "      <th></th>\n",
       "      <th>id</th>\n",
       "      <th>amount</th>\n",
       "      <th>status</th>\n",
       "      <th>created_at</th>\n",
       "      <th>updated_at</th>\n",
       "      <th>user_id</th>\n",
       "      <th>moderated_at</th>\n",
       "      <th>deleted_account_id</th>\n",
       "      <th>reimbursement_date</th>\n",
       "      <th>cash_request_received_date</th>\n",
       "      <th>money_back_date</th>\n",
       "      <th>transfer_type</th>\n",
       "      <th>send_at</th>\n",
       "      <th>recovery_status</th>\n",
       "      <th>reco_creation</th>\n",
       "      <th>reco_last_update</th>\n",
       "    </tr>\n",
       "  </thead>\n",
       "  <tbody>\n",
       "    <tr>\n",
       "      <th>0</th>\n",
       "      <td>5</td>\n",
       "      <td>100.0</td>\n",
       "      <td>rejected</td>\n",
       "      <td>2019-12-10 19:05:21.596873+00</td>\n",
       "      <td>2019-12-11 16:47:42.40783+00</td>\n",
       "      <td>804.0</td>\n",
       "      <td>2019-12-11 16:47:42.405646+00</td>\n",
       "      <td>NaN</td>\n",
       "      <td>2020-01-09 19:05:21.596363+00</td>\n",
       "      <td>NaN</td>\n",
       "      <td>NaN</td>\n",
       "      <td>regular</td>\n",
       "      <td>NaN</td>\n",
       "      <td>NaN</td>\n",
       "      <td>NaN</td>\n",
       "      <td>NaN</td>\n",
       "    </tr>\n",
       "    <tr>\n",
       "      <th>1</th>\n",
       "      <td>70</td>\n",
       "      <td>100.0</td>\n",
       "      <td>rejected</td>\n",
       "      <td>2019-12-10 19:50:12.34778+00</td>\n",
       "      <td>2019-12-11 14:24:22.900054+00</td>\n",
       "      <td>231.0</td>\n",
       "      <td>2019-12-11 14:24:22.897988+00</td>\n",
       "      <td>NaN</td>\n",
       "      <td>2020-01-09 19:50:12.34778+00</td>\n",
       "      <td>NaN</td>\n",
       "      <td>NaN</td>\n",
       "      <td>regular</td>\n",
       "      <td>NaN</td>\n",
       "      <td>NaN</td>\n",
       "      <td>NaN</td>\n",
       "      <td>NaN</td>\n",
       "    </tr>\n",
       "    <tr>\n",
       "      <th>2</th>\n",
       "      <td>7</td>\n",
       "      <td>100.0</td>\n",
       "      <td>rejected</td>\n",
       "      <td>2019-12-10 19:13:35.82546+00</td>\n",
       "      <td>2019-12-11 09:46:59.779773+00</td>\n",
       "      <td>191.0</td>\n",
       "      <td>2019-12-11 09:46:59.777728+00</td>\n",
       "      <td>NaN</td>\n",
       "      <td>2020-01-09 19:13:35.825041+00</td>\n",
       "      <td>NaN</td>\n",
       "      <td>NaN</td>\n",
       "      <td>regular</td>\n",
       "      <td>NaN</td>\n",
       "      <td>NaN</td>\n",
       "      <td>NaN</td>\n",
       "      <td>NaN</td>\n",
       "    </tr>\n",
       "    <tr>\n",
       "      <th>3</th>\n",
       "      <td>10</td>\n",
       "      <td>99.0</td>\n",
       "      <td>rejected</td>\n",
       "      <td>2019-12-10 19:16:10.880172+00</td>\n",
       "      <td>2019-12-18 14:26:18.136163+00</td>\n",
       "      <td>761.0</td>\n",
       "      <td>2019-12-18 14:26:18.128407+00</td>\n",
       "      <td>NaN</td>\n",
       "      <td>2020-01-09 19:16:10.879606+00</td>\n",
       "      <td>NaN</td>\n",
       "      <td>NaN</td>\n",
       "      <td>regular</td>\n",
       "      <td>NaN</td>\n",
       "      <td>NaN</td>\n",
       "      <td>NaN</td>\n",
       "      <td>NaN</td>\n",
       "    </tr>\n",
       "    <tr>\n",
       "      <th>4</th>\n",
       "      <td>1594</td>\n",
       "      <td>100.0</td>\n",
       "      <td>rejected</td>\n",
       "      <td>2020-05-06 09:59:38.877376+00</td>\n",
       "      <td>2020-05-07 09:21:55.34008+00</td>\n",
       "      <td>7686.0</td>\n",
       "      <td>2020-05-07 09:21:55.320193+00</td>\n",
       "      <td>NaN</td>\n",
       "      <td>2020-06-05 22:00:00+00</td>\n",
       "      <td>NaN</td>\n",
       "      <td>NaN</td>\n",
       "      <td>regular</td>\n",
       "      <td>NaN</td>\n",
       "      <td>NaN</td>\n",
       "      <td>NaN</td>\n",
       "      <td>NaN</td>\n",
       "    </tr>\n",
       "  </tbody>\n",
       "</table>\n",
       "</div>"
      ],
      "text/plain": [
       "     id  amount    status                     created_at  \\\n",
       "0     5   100.0  rejected  2019-12-10 19:05:21.596873+00   \n",
       "1    70   100.0  rejected   2019-12-10 19:50:12.34778+00   \n",
       "2     7   100.0  rejected   2019-12-10 19:13:35.82546+00   \n",
       "3    10    99.0  rejected  2019-12-10 19:16:10.880172+00   \n",
       "4  1594   100.0  rejected  2020-05-06 09:59:38.877376+00   \n",
       "\n",
       "                      updated_at  user_id                   moderated_at  \\\n",
       "0   2019-12-11 16:47:42.40783+00    804.0  2019-12-11 16:47:42.405646+00   \n",
       "1  2019-12-11 14:24:22.900054+00    231.0  2019-12-11 14:24:22.897988+00   \n",
       "2  2019-12-11 09:46:59.779773+00    191.0  2019-12-11 09:46:59.777728+00   \n",
       "3  2019-12-18 14:26:18.136163+00    761.0  2019-12-18 14:26:18.128407+00   \n",
       "4   2020-05-07 09:21:55.34008+00   7686.0  2020-05-07 09:21:55.320193+00   \n",
       "\n",
       "   deleted_account_id             reimbursement_date  \\\n",
       "0                 NaN  2020-01-09 19:05:21.596363+00   \n",
       "1                 NaN   2020-01-09 19:50:12.34778+00   \n",
       "2                 NaN  2020-01-09 19:13:35.825041+00   \n",
       "3                 NaN  2020-01-09 19:16:10.879606+00   \n",
       "4                 NaN         2020-06-05 22:00:00+00   \n",
       "\n",
       "  cash_request_received_date money_back_date transfer_type send_at  \\\n",
       "0                        NaN             NaN       regular     NaN   \n",
       "1                        NaN             NaN       regular     NaN   \n",
       "2                        NaN             NaN       regular     NaN   \n",
       "3                        NaN             NaN       regular     NaN   \n",
       "4                        NaN             NaN       regular     NaN   \n",
       "\n",
       "  recovery_status reco_creation reco_last_update  \n",
       "0             NaN           NaN              NaN  \n",
       "1             NaN           NaN              NaN  \n",
       "2             NaN           NaN              NaN  \n",
       "3             NaN           NaN              NaN  \n",
       "4             NaN           NaN              NaN  "
      ]
     },
     "execution_count": 29,
     "metadata": {},
     "output_type": "execute_result"
    }
   ],
   "source": [
    "cash = pd.read_csv(\"/home/somberkers/project-1-ironhack-payments-es/project_dataset_copy/extract_cash_request.csv\")\n",
    "nombres_columnas = cash.columns\n",
    "print(nombres_columnas)\n",
    "cash.head()\n",
    "\n"
   ]
  },
  {
   "cell_type": "markdown",
   "metadata": {},
   "source": [
    "### **Cleaning and organizing the data**"
   ]
  },
  {
   "cell_type": "markdown",
   "metadata": {},
   "source": [
    "The first step in any analysis is the preparation of the information. Even if this step can be long, it is mandatory to work with the neccesary and representative data from our system"
   ]
  },
  {
   "cell_type": "code",
   "execution_count": 30,
   "metadata": {},
   "outputs": [
    {
     "data": {
      "text/html": [
       "<div>\n",
       "<style scoped>\n",
       "    .dataframe tbody tr th:only-of-type {\n",
       "        vertical-align: middle;\n",
       "    }\n",
       "\n",
       "    .dataframe tbody tr th {\n",
       "        vertical-align: top;\n",
       "    }\n",
       "\n",
       "    .dataframe thead th {\n",
       "        text-align: right;\n",
       "    }\n",
       "</style>\n",
       "<table border=\"1\" class=\"dataframe\">\n",
       "  <thead>\n",
       "    <tr style=\"text-align: right;\">\n",
       "      <th></th>\n",
       "      <th>id</th>\n",
       "      <th>amount</th>\n",
       "      <th>status</th>\n",
       "      <th>created_at</th>\n",
       "      <th>updated_at</th>\n",
       "      <th>user_id</th>\n",
       "      <th>moderated_at</th>\n",
       "      <th>deleted_account_id</th>\n",
       "      <th>reimbursement_date</th>\n",
       "      <th>cash_request_received_date</th>\n",
       "      <th>money_back_date</th>\n",
       "      <th>transfer_type</th>\n",
       "      <th>send_at</th>\n",
       "      <th>recovery_status</th>\n",
       "      <th>reco_creation</th>\n",
       "      <th>reco_last_update</th>\n",
       "    </tr>\n",
       "  </thead>\n",
       "  <tbody>\n",
       "    <tr>\n",
       "      <th>7</th>\n",
       "      <td>654</td>\n",
       "      <td>100.0</td>\n",
       "      <td>rejected</td>\n",
       "      <td>2020-02-10 01:11:53.80827+00</td>\n",
       "      <td>2020-02-10 11:53:32.104131+00</td>\n",
       "      <td>NaN</td>\n",
       "      <td>2020-02-10 09:11:21.350695+00</td>\n",
       "      <td>309.0</td>\n",
       "      <td>2020-03-11 01:11:53.80793+00</td>\n",
       "      <td>NaN</td>\n",
       "      <td>NaN</td>\n",
       "      <td>regular</td>\n",
       "      <td>NaN</td>\n",
       "      <td>NaN</td>\n",
       "      <td>NaN</td>\n",
       "      <td>NaN</td>\n",
       "    </tr>\n",
       "    <tr>\n",
       "      <th>8</th>\n",
       "      <td>5672</td>\n",
       "      <td>100.0</td>\n",
       "      <td>canceled</td>\n",
       "      <td>2020-06-28 12:06:33.71284+00</td>\n",
       "      <td>2020-06-28 12:06:33.712853+00</td>\n",
       "      <td>NaN</td>\n",
       "      <td>NaN</td>\n",
       "      <td>2499.0</td>\n",
       "      <td>2020-07-07 22:00:00+00</td>\n",
       "      <td>NaN</td>\n",
       "      <td>NaN</td>\n",
       "      <td>regular</td>\n",
       "      <td>NaN</td>\n",
       "      <td>NaN</td>\n",
       "      <td>NaN</td>\n",
       "      <td>NaN</td>\n",
       "    </tr>\n",
       "    <tr>\n",
       "      <th>19</th>\n",
       "      <td>545</td>\n",
       "      <td>100.0</td>\n",
       "      <td>rejected</td>\n",
       "      <td>2020-01-29 13:53:03.343598+00</td>\n",
       "      <td>2020-02-08 06:21:16.156719+00</td>\n",
       "      <td>NaN</td>\n",
       "      <td>2020-01-29 14:39:11.563872+00</td>\n",
       "      <td>304.0</td>\n",
       "      <td>2020-02-28 13:53:03.343216+00</td>\n",
       "      <td>NaN</td>\n",
       "      <td>NaN</td>\n",
       "      <td>regular</td>\n",
       "      <td>NaN</td>\n",
       "      <td>NaN</td>\n",
       "      <td>NaN</td>\n",
       "      <td>NaN</td>\n",
       "    </tr>\n",
       "    <tr>\n",
       "      <th>21</th>\n",
       "      <td>613</td>\n",
       "      <td>100.0</td>\n",
       "      <td>rejected</td>\n",
       "      <td>2020-02-05 17:37:56.852948+00</td>\n",
       "      <td>2020-02-08 06:21:16.15229+00</td>\n",
       "      <td>NaN</td>\n",
       "      <td>2020-02-06 12:48:09.880702+00</td>\n",
       "      <td>304.0</td>\n",
       "      <td>2020-03-08 17:37:56.842421+00</td>\n",
       "      <td>NaN</td>\n",
       "      <td>NaN</td>\n",
       "      <td>regular</td>\n",
       "      <td>NaN</td>\n",
       "      <td>NaN</td>\n",
       "      <td>NaN</td>\n",
       "      <td>NaN</td>\n",
       "    </tr>\n",
       "    <tr>\n",
       "      <th>25</th>\n",
       "      <td>84</td>\n",
       "      <td>100.0</td>\n",
       "      <td>rejected</td>\n",
       "      <td>2019-12-11 07:30:42.567035+00</td>\n",
       "      <td>2020-01-10 16:58:06.837117+00</td>\n",
       "      <td>NaN</td>\n",
       "      <td>2020-01-10 16:58:06.830329+00</td>\n",
       "      <td>91.0</td>\n",
       "      <td>2020-01-10 07:30:42.567035+00</td>\n",
       "      <td>NaN</td>\n",
       "      <td>NaN</td>\n",
       "      <td>regular</td>\n",
       "      <td>NaN</td>\n",
       "      <td>NaN</td>\n",
       "      <td>NaN</td>\n",
       "      <td>NaN</td>\n",
       "    </tr>\n",
       "    <tr>\n",
       "      <th>...</th>\n",
       "      <td>...</td>\n",
       "      <td>...</td>\n",
       "      <td>...</td>\n",
       "      <td>...</td>\n",
       "      <td>...</td>\n",
       "      <td>...</td>\n",
       "      <td>...</td>\n",
       "      <td>...</td>\n",
       "      <td>...</td>\n",
       "      <td>...</td>\n",
       "      <td>...</td>\n",
       "      <td>...</td>\n",
       "      <td>...</td>\n",
       "      <td>...</td>\n",
       "      <td>...</td>\n",
       "      <td>...</td>\n",
       "    </tr>\n",
       "    <tr>\n",
       "      <th>23922</th>\n",
       "      <td>23989</td>\n",
       "      <td>25.0</td>\n",
       "      <td>money_back</td>\n",
       "      <td>2020-10-24 10:22:05.934286+00</td>\n",
       "      <td>2020-12-18 13:14:25.891447+00</td>\n",
       "      <td>NaN</td>\n",
       "      <td>NaN</td>\n",
       "      <td>29610.0</td>\n",
       "      <td>2020-11-03 10:22:40.194197+00</td>\n",
       "      <td>NaN</td>\n",
       "      <td>2020-11-16 02:57:54.235926+00</td>\n",
       "      <td>instant</td>\n",
       "      <td>2020-10-24 10:22:40.194197+00</td>\n",
       "      <td>completed</td>\n",
       "      <td>2020-11-13 22:40:42.99552+00</td>\n",
       "      <td>2020-11-16 02:57:54.252045+00</td>\n",
       "    </tr>\n",
       "    <tr>\n",
       "      <th>23925</th>\n",
       "      <td>22913</td>\n",
       "      <td>100.0</td>\n",
       "      <td>money_back</td>\n",
       "      <td>2020-10-21 22:00:18.904317+00</td>\n",
       "      <td>2020-12-18 13:11:15.976246+00</td>\n",
       "      <td>NaN</td>\n",
       "      <td>NaN</td>\n",
       "      <td>30404.0</td>\n",
       "      <td>2020-11-09 23:51:00+00</td>\n",
       "      <td>2020-10-23</td>\n",
       "      <td>2020-11-10 19:51:45.285165+00</td>\n",
       "      <td>instant</td>\n",
       "      <td>2020-10-21 22:00:45.462413+00</td>\n",
       "      <td>NaN</td>\n",
       "      <td>NaN</td>\n",
       "      <td>NaN</td>\n",
       "    </tr>\n",
       "    <tr>\n",
       "      <th>23929</th>\n",
       "      <td>22641</td>\n",
       "      <td>100.0</td>\n",
       "      <td>money_back</td>\n",
       "      <td>2020-10-21 00:46:36.5907+00</td>\n",
       "      <td>2020-12-18 13:15:45.384787+00</td>\n",
       "      <td>NaN</td>\n",
       "      <td>NaN</td>\n",
       "      <td>29911.0</td>\n",
       "      <td>2020-12-06 23:00:00+00</td>\n",
       "      <td>2020-10-22</td>\n",
       "      <td>2020-12-10 23:00:00+00</td>\n",
       "      <td>instant</td>\n",
       "      <td>2020-10-21 00:47:58.826568+00</td>\n",
       "      <td>NaN</td>\n",
       "      <td>NaN</td>\n",
       "      <td>NaN</td>\n",
       "    </tr>\n",
       "    <tr>\n",
       "      <th>23940</th>\n",
       "      <td>23832</td>\n",
       "      <td>25.0</td>\n",
       "      <td>money_back</td>\n",
       "      <td>2020-10-23 22:56:09.02721+00</td>\n",
       "      <td>2020-12-18 13:11:28.776102+00</td>\n",
       "      <td>NaN</td>\n",
       "      <td>NaN</td>\n",
       "      <td>29803.0</td>\n",
       "      <td>2020-12-04 23:00:00+00</td>\n",
       "      <td>2020-10-24</td>\n",
       "      <td>2020-12-08 23:00:00+00</td>\n",
       "      <td>instant</td>\n",
       "      <td>2020-10-23 22:56:42.839064+00</td>\n",
       "      <td>NaN</td>\n",
       "      <td>NaN</td>\n",
       "      <td>NaN</td>\n",
       "    </tr>\n",
       "    <tr>\n",
       "      <th>23966</th>\n",
       "      <td>25243</td>\n",
       "      <td>50.0</td>\n",
       "      <td>money_back</td>\n",
       "      <td>2020-10-27 14:41:25.73491+00</td>\n",
       "      <td>2020-12-18 13:15:40.843946+00</td>\n",
       "      <td>NaN</td>\n",
       "      <td>NaN</td>\n",
       "      <td>30367.0</td>\n",
       "      <td>2020-11-03 22:00:00+00</td>\n",
       "      <td>2020-10-28</td>\n",
       "      <td>2020-12-01 13:26:53.787672+00</td>\n",
       "      <td>instant</td>\n",
       "      <td>2020-10-27 14:41:57.901946+00</td>\n",
       "      <td>completed</td>\n",
       "      <td>2020-11-12 23:20:41.928788+00</td>\n",
       "      <td>2020-12-01 13:26:53.815504+00</td>\n",
       "    </tr>\n",
       "  </tbody>\n",
       "</table>\n",
       "<p>2103 rows × 16 columns</p>\n",
       "</div>"
      ],
      "text/plain": [
       "          id  amount      status                     created_at  \\\n",
       "7        654   100.0    rejected   2020-02-10 01:11:53.80827+00   \n",
       "8       5672   100.0    canceled   2020-06-28 12:06:33.71284+00   \n",
       "19       545   100.0    rejected  2020-01-29 13:53:03.343598+00   \n",
       "21       613   100.0    rejected  2020-02-05 17:37:56.852948+00   \n",
       "25        84   100.0    rejected  2019-12-11 07:30:42.567035+00   \n",
       "...      ...     ...         ...                            ...   \n",
       "23922  23989    25.0  money_back  2020-10-24 10:22:05.934286+00   \n",
       "23925  22913   100.0  money_back  2020-10-21 22:00:18.904317+00   \n",
       "23929  22641   100.0  money_back    2020-10-21 00:46:36.5907+00   \n",
       "23940  23832    25.0  money_back   2020-10-23 22:56:09.02721+00   \n",
       "23966  25243    50.0  money_back   2020-10-27 14:41:25.73491+00   \n",
       "\n",
       "                          updated_at  user_id                   moderated_at  \\\n",
       "7      2020-02-10 11:53:32.104131+00      NaN  2020-02-10 09:11:21.350695+00   \n",
       "8      2020-06-28 12:06:33.712853+00      NaN                            NaN   \n",
       "19     2020-02-08 06:21:16.156719+00      NaN  2020-01-29 14:39:11.563872+00   \n",
       "21      2020-02-08 06:21:16.15229+00      NaN  2020-02-06 12:48:09.880702+00   \n",
       "25     2020-01-10 16:58:06.837117+00      NaN  2020-01-10 16:58:06.830329+00   \n",
       "...                              ...      ...                            ...   \n",
       "23922  2020-12-18 13:14:25.891447+00      NaN                            NaN   \n",
       "23925  2020-12-18 13:11:15.976246+00      NaN                            NaN   \n",
       "23929  2020-12-18 13:15:45.384787+00      NaN                            NaN   \n",
       "23940  2020-12-18 13:11:28.776102+00      NaN                            NaN   \n",
       "23966  2020-12-18 13:15:40.843946+00      NaN                            NaN   \n",
       "\n",
       "       deleted_account_id             reimbursement_date  \\\n",
       "7                   309.0   2020-03-11 01:11:53.80793+00   \n",
       "8                  2499.0         2020-07-07 22:00:00+00   \n",
       "19                  304.0  2020-02-28 13:53:03.343216+00   \n",
       "21                  304.0  2020-03-08 17:37:56.842421+00   \n",
       "25                   91.0  2020-01-10 07:30:42.567035+00   \n",
       "...                   ...                            ...   \n",
       "23922             29610.0  2020-11-03 10:22:40.194197+00   \n",
       "23925             30404.0         2020-11-09 23:51:00+00   \n",
       "23929             29911.0         2020-12-06 23:00:00+00   \n",
       "23940             29803.0         2020-12-04 23:00:00+00   \n",
       "23966             30367.0         2020-11-03 22:00:00+00   \n",
       "\n",
       "      cash_request_received_date                money_back_date transfer_type  \\\n",
       "7                            NaN                            NaN       regular   \n",
       "8                            NaN                            NaN       regular   \n",
       "19                           NaN                            NaN       regular   \n",
       "21                           NaN                            NaN       regular   \n",
       "25                           NaN                            NaN       regular   \n",
       "...                          ...                            ...           ...   \n",
       "23922                        NaN  2020-11-16 02:57:54.235926+00       instant   \n",
       "23925                 2020-10-23  2020-11-10 19:51:45.285165+00       instant   \n",
       "23929                 2020-10-22         2020-12-10 23:00:00+00       instant   \n",
       "23940                 2020-10-24         2020-12-08 23:00:00+00       instant   \n",
       "23966                 2020-10-28  2020-12-01 13:26:53.787672+00       instant   \n",
       "\n",
       "                             send_at recovery_status  \\\n",
       "7                                NaN             NaN   \n",
       "8                                NaN             NaN   \n",
       "19                               NaN             NaN   \n",
       "21                               NaN             NaN   \n",
       "25                               NaN             NaN   \n",
       "...                              ...             ...   \n",
       "23922  2020-10-24 10:22:40.194197+00       completed   \n",
       "23925  2020-10-21 22:00:45.462413+00             NaN   \n",
       "23929  2020-10-21 00:47:58.826568+00             NaN   \n",
       "23940  2020-10-23 22:56:42.839064+00             NaN   \n",
       "23966  2020-10-27 14:41:57.901946+00       completed   \n",
       "\n",
       "                       reco_creation               reco_last_update  \n",
       "7                                NaN                            NaN  \n",
       "8                                NaN                            NaN  \n",
       "19                               NaN                            NaN  \n",
       "21                               NaN                            NaN  \n",
       "25                               NaN                            NaN  \n",
       "...                              ...                            ...  \n",
       "23922   2020-11-13 22:40:42.99552+00  2020-11-16 02:57:54.252045+00  \n",
       "23925                            NaN                            NaN  \n",
       "23929                            NaN                            NaN  \n",
       "23940                            NaN                            NaN  \n",
       "23966  2020-11-12 23:20:41.928788+00  2020-12-01 13:26:53.815504+00  \n",
       "\n",
       "[2103 rows x 16 columns]"
      ]
     },
     "execution_count": 30,
     "metadata": {},
     "output_type": "execute_result"
    }
   ],
   "source": [
    "cash[cash['user_id'].isna()]\n",
    "#even when the student cancels the account, we can retrieve the user_id from \"deleted_id\".\n",
    "#It provides valuable info as some students deleted the account after paying back."
   ]
  },
  {
   "cell_type": "code",
   "execution_count": 31,
   "metadata": {},
   "outputs": [
    {
     "name": "stderr",
     "output_type": "stream",
     "text": [
      "/tmp/ipykernel_20704/2006287500.py:6: SettingWithCopyWarning: \n",
      "A value is trying to be set on a copy of a slice from a DataFrame\n",
      "\n",
      "See the caveats in the documentation: https://pandas.pydata.org/pandas-docs/stable/user_guide/indexing.html#returning-a-view-versus-a-copy\n",
      "  cash_cohort.loc['user_id'] = cash_cohort['user_id'].fillna(cash_cohort['deleted_account_id'])\n"
     ]
    },
    {
     "data": {
      "text/html": [
       "<div>\n",
       "<style scoped>\n",
       "    .dataframe tbody tr th:only-of-type {\n",
       "        vertical-align: middle;\n",
       "    }\n",
       "\n",
       "    .dataframe tbody tr th {\n",
       "        vertical-align: top;\n",
       "    }\n",
       "\n",
       "    .dataframe thead th {\n",
       "        text-align: right;\n",
       "    }\n",
       "</style>\n",
       "<table border=\"1\" class=\"dataframe\">\n",
       "  <thead>\n",
       "    <tr style=\"text-align: right;\">\n",
       "      <th></th>\n",
       "      <th>id</th>\n",
       "      <th>user_id</th>\n",
       "      <th>amount</th>\n",
       "      <th>created_at</th>\n",
       "      <th>deleted_account_id</th>\n",
       "      <th>recovery_status</th>\n",
       "      <th>reco_creation</th>\n",
       "      <th>reco_last_update</th>\n",
       "    </tr>\n",
       "  </thead>\n",
       "  <tbody>\n",
       "    <tr>\n",
       "      <th>7</th>\n",
       "      <td>654.0</td>\n",
       "      <td>NaN</td>\n",
       "      <td>100.0</td>\n",
       "      <td>2020-02-10 01:11:53.80827+00</td>\n",
       "      <td>309.0</td>\n",
       "      <td>NaN</td>\n",
       "      <td>NaN</td>\n",
       "      <td>NaN</td>\n",
       "    </tr>\n",
       "    <tr>\n",
       "      <th>8</th>\n",
       "      <td>5672.0</td>\n",
       "      <td>NaN</td>\n",
       "      <td>100.0</td>\n",
       "      <td>2020-06-28 12:06:33.71284+00</td>\n",
       "      <td>2499.0</td>\n",
       "      <td>NaN</td>\n",
       "      <td>NaN</td>\n",
       "      <td>NaN</td>\n",
       "    </tr>\n",
       "    <tr>\n",
       "      <th>19</th>\n",
       "      <td>545.0</td>\n",
       "      <td>NaN</td>\n",
       "      <td>100.0</td>\n",
       "      <td>2020-01-29 13:53:03.343598+00</td>\n",
       "      <td>304.0</td>\n",
       "      <td>NaN</td>\n",
       "      <td>NaN</td>\n",
       "      <td>NaN</td>\n",
       "    </tr>\n",
       "    <tr>\n",
       "      <th>21</th>\n",
       "      <td>613.0</td>\n",
       "      <td>NaN</td>\n",
       "      <td>100.0</td>\n",
       "      <td>2020-02-05 17:37:56.852948+00</td>\n",
       "      <td>304.0</td>\n",
       "      <td>NaN</td>\n",
       "      <td>NaN</td>\n",
       "      <td>NaN</td>\n",
       "    </tr>\n",
       "    <tr>\n",
       "      <th>25</th>\n",
       "      <td>84.0</td>\n",
       "      <td>NaN</td>\n",
       "      <td>100.0</td>\n",
       "      <td>2019-12-11 07:30:42.567035+00</td>\n",
       "      <td>91.0</td>\n",
       "      <td>NaN</td>\n",
       "      <td>NaN</td>\n",
       "      <td>NaN</td>\n",
       "    </tr>\n",
       "    <tr>\n",
       "      <th>...</th>\n",
       "      <td>...</td>\n",
       "      <td>...</td>\n",
       "      <td>...</td>\n",
       "      <td>...</td>\n",
       "      <td>...</td>\n",
       "      <td>...</td>\n",
       "      <td>...</td>\n",
       "      <td>...</td>\n",
       "    </tr>\n",
       "    <tr>\n",
       "      <th>23925</th>\n",
       "      <td>22913.0</td>\n",
       "      <td>NaN</td>\n",
       "      <td>100.0</td>\n",
       "      <td>2020-10-21 22:00:18.904317+00</td>\n",
       "      <td>30404.0</td>\n",
       "      <td>NaN</td>\n",
       "      <td>NaN</td>\n",
       "      <td>NaN</td>\n",
       "    </tr>\n",
       "    <tr>\n",
       "      <th>23929</th>\n",
       "      <td>22641.0</td>\n",
       "      <td>NaN</td>\n",
       "      <td>100.0</td>\n",
       "      <td>2020-10-21 00:46:36.5907+00</td>\n",
       "      <td>29911.0</td>\n",
       "      <td>NaN</td>\n",
       "      <td>NaN</td>\n",
       "      <td>NaN</td>\n",
       "    </tr>\n",
       "    <tr>\n",
       "      <th>23940</th>\n",
       "      <td>23832.0</td>\n",
       "      <td>NaN</td>\n",
       "      <td>25.0</td>\n",
       "      <td>2020-10-23 22:56:09.02721+00</td>\n",
       "      <td>29803.0</td>\n",
       "      <td>NaN</td>\n",
       "      <td>NaN</td>\n",
       "      <td>NaN</td>\n",
       "    </tr>\n",
       "    <tr>\n",
       "      <th>23966</th>\n",
       "      <td>25243.0</td>\n",
       "      <td>NaN</td>\n",
       "      <td>50.0</td>\n",
       "      <td>2020-10-27 14:41:25.73491+00</td>\n",
       "      <td>30367.0</td>\n",
       "      <td>completed</td>\n",
       "      <td>2020-11-12 23:20:41.928788+00</td>\n",
       "      <td>2020-12-01 13:26:53.815504+00</td>\n",
       "    </tr>\n",
       "    <tr>\n",
       "      <th>user_id</th>\n",
       "      <td>NaN</td>\n",
       "      <td>NaN</td>\n",
       "      <td>NaN</td>\n",
       "      <td>NaN</td>\n",
       "      <td>NaN</td>\n",
       "      <td>NaN</td>\n",
       "      <td>NaN</td>\n",
       "      <td>NaN</td>\n",
       "    </tr>\n",
       "  </tbody>\n",
       "</table>\n",
       "<p>2104 rows × 8 columns</p>\n",
       "</div>"
      ],
      "text/plain": [
       "              id  user_id  amount                     created_at  \\\n",
       "7          654.0      NaN   100.0   2020-02-10 01:11:53.80827+00   \n",
       "8         5672.0      NaN   100.0   2020-06-28 12:06:33.71284+00   \n",
       "19         545.0      NaN   100.0  2020-01-29 13:53:03.343598+00   \n",
       "21         613.0      NaN   100.0  2020-02-05 17:37:56.852948+00   \n",
       "25          84.0      NaN   100.0  2019-12-11 07:30:42.567035+00   \n",
       "...          ...      ...     ...                            ...   \n",
       "23925    22913.0      NaN   100.0  2020-10-21 22:00:18.904317+00   \n",
       "23929    22641.0      NaN   100.0    2020-10-21 00:46:36.5907+00   \n",
       "23940    23832.0      NaN    25.0   2020-10-23 22:56:09.02721+00   \n",
       "23966    25243.0      NaN    50.0   2020-10-27 14:41:25.73491+00   \n",
       "user_id      NaN      NaN     NaN                            NaN   \n",
       "\n",
       "         deleted_account_id recovery_status                  reco_creation  \\\n",
       "7                     309.0             NaN                            NaN   \n",
       "8                    2499.0             NaN                            NaN   \n",
       "19                    304.0             NaN                            NaN   \n",
       "21                    304.0             NaN                            NaN   \n",
       "25                     91.0             NaN                            NaN   \n",
       "...                     ...             ...                            ...   \n",
       "23925               30404.0             NaN                            NaN   \n",
       "23929               29911.0             NaN                            NaN   \n",
       "23940               29803.0             NaN                            NaN   \n",
       "23966               30367.0       completed  2020-11-12 23:20:41.928788+00   \n",
       "user_id                 NaN             NaN                            NaN   \n",
       "\n",
       "                      reco_last_update  \n",
       "7                                  NaN  \n",
       "8                                  NaN  \n",
       "19                                 NaN  \n",
       "21                                 NaN  \n",
       "25                                 NaN  \n",
       "...                                ...  \n",
       "23925                              NaN  \n",
       "23929                              NaN  \n",
       "23940                              NaN  \n",
       "23966    2020-12-01 13:26:53.815504+00  \n",
       "user_id                            NaN  \n",
       "\n",
       "[2104 rows x 8 columns]"
      ]
     },
     "execution_count": 31,
     "metadata": {},
     "output_type": "execute_result"
    }
   ],
   "source": [
    "#Creating a subset with the necessary columns only\n",
    "cash_cohort = cash[['id','user_id','amount','created_at','deleted_account_id','recovery_status','reco_creation','reco_last_update']]\n",
    "\n",
    "\n",
    "#Filling missing user_ids using deleted_account_id\n",
    "cash_cohort.loc['user_id'] = cash_cohort['user_id'].fillna(cash_cohort['deleted_account_id'])\n",
    "\n",
    "#Make sure no more missing user_ids\n",
    "cash_cohort.loc[cash_cohort['user_id'].isna()]\n",
    "\n"
   ]
  },
  {
   "cell_type": "code",
   "execution_count": 32,
   "metadata": {},
   "outputs": [
    {
     "name": "stdout",
     "output_type": "stream",
     "text": [
      "Index(['id', 'user_id', 'amount', 'created_at', 'deleted_account_id',\n",
      "       'recovery_status', 'reco_creation', 'reco_last_update'],\n",
      "      dtype='object')\n"
     ]
    }
   ],
   "source": [
    "nombres_columnas = cash_cohort.columns\n",
    "print(nombres_columnas)"
   ]
  },
  {
   "cell_type": "markdown",
   "metadata": {},
   "source": [
    "The success rate is high; the majority of our operations conclude successfully. Payments are reimbursed without incident, and our service functions smoothly."
   ]
  },
  {
   "cell_type": "markdown",
   "metadata": {},
   "source": [
    "### **Measuring the importance of these indicators in the total functioning of the company**  \n",
    "The proper functioning of the payment and reimbursement system is important, so we must take into account the possible factors that affect said operation. The control and resolution of incidents is one of those factors.\n"
   ]
  },
  {
   "cell_type": "code",
   "execution_count": 33,
   "metadata": {},
   "outputs": [
    {
     "name": "stdout",
     "output_type": "stream",
     "text": [
      "recovery_status\n",
      "completed               2468\n",
      "pending                  845\n",
      "pending_direct_debit      16\n",
      "cancelled                  1\n",
      "Name: count, dtype: int64\n",
      "3330\n",
      "21867\n",
      "18537\n"
     ]
    }
   ],
   "source": [
    "conteo_reco = cash_cohort['recovery_status'].value_counts()\n",
    "print(conteo_reco)\n",
    "\n",
    "total_reco = cash_cohort['recovery_status'].count()\n",
    "print(total_reco)\n",
    "#the amount of incidents based on the recovery status\n",
    "\n",
    "total_filas = cash_cohort['user_id'].count()\n",
    "print(total_filas)\n",
    "\n",
    "no_incident = total_filas - total_reco\n",
    "print(no_incident)\n",
    "#total amount without any incident\n"
   ]
  },
  {
   "cell_type": "code",
   "execution_count": 34,
   "metadata": {},
   "outputs": [
    {
     "name": "stdout",
     "output_type": "stream",
     "text": [
      "recovery_status\n",
      "completed               11.286413\n",
      "pending                  3.864270\n",
      "pending_direct_debit     0.073170\n",
      "cancelled                0.004573\n",
      "Name: count, dtype: float64\n",
      "15.228426395939088\n"
     ]
    }
   ],
   "source": [
    "porcentaje_reco = (conteo_reco / total_filas) * 100\n",
    "print(porcentaje_reco)\n",
    "\n",
    "suma_porcentajes = porcentaje_reco.sum()\n",
    "print(suma_porcentajes)\n",
    "#the % of incidents"
   ]
  },
  {
   "cell_type": "markdown",
   "metadata": {},
   "source": [
    "**Incident recoveries represent almost 14% of the total of requests**"
   ]
  },
  {
   "cell_type": "code",
   "execution_count": 35,
   "metadata": {},
   "outputs": [
    {
     "name": "stdout",
     "output_type": "stream",
     "text": [
      "recovery_status\n",
      "completed               74.114114\n",
      "pending                 25.375375\n",
      "pending_direct_debit     0.480480\n",
      "cancelled                0.030030\n",
      "Name: count, dtype: float64\n"
     ]
    },
    {
     "data": {
      "image/png": "[encoded data removed]",
      "text/plain": [
       "<Figure size 300x300 with 1 Axes>"
      ]
     },
     "metadata": {},
     "output_type": "display_data"
    }
   ],
   "source": [
    "porcentaje_recov = (conteo_reco / total_reco) * 100\n",
    "print(porcentaje_recov)\n",
    "\n",
    "plt.figure(figsize=(3, 3))\n",
    "patches, texts, autotexts = plt.pie(porcentaje_recov, labels=porcentaje_recov.index, autopct='%1.1f%%', startangle=140)\n",
    "plt.title('Recovery status')\n",
    "plt.axis('equal') \n",
    "\n",
    "plt.legend(patches, porcentaje_recov.index, loc=\"center left\", bbox_to_anchor=(1, 0.5))\n",
    "\n",
    "plt.show()"
   ]
  },
  {
   "cell_type": "code",
   "execution_count": 36,
   "metadata": {},
   "outputs": [
    {
     "name": "stdout",
     "output_type": "stream",
     "text": [
      "recovery_status\n",
      "cancelled                  1\n",
      "completed               2294\n",
      "pending                  829\n",
      "pending_direct_debit      16\n",
      "Name: user_id, dtype: int64\n"
     ]
    }
   ],
   "source": [
    "agrupado = cash_cohort.groupby('recovery_status')['user_id'].count() \n",
    "print(agrupado)\n",
    "#now we can see how users with payment problems are grouped, these are the different options and the amount of them"
   ]
  },
  {
   "cell_type": "markdown",
   "metadata": {},
   "source": [
    "### **Transforming data into manageable information** "
   ]
  },
  {
   "cell_type": "code",
   "execution_count": 37,
   "metadata": {},
   "outputs": [
    {
     "name": "stdout",
     "output_type": "stream",
     "text": [
      "id                                 float64\n",
      "user_id                            float64\n",
      "amount                             float64\n",
      "created_at                          object\n",
      "deleted_account_id                 float64\n",
      "recovery_status                     object\n",
      "reco_creation          datetime64[ns, UTC]\n",
      "reco_last_update       datetime64[ns, UTC]\n",
      "reimbursement_range                  int64\n",
      "dtype: object\n",
      "                    reco_last_update                    reco_creation\n",
      "5   2020-07-06 03:36:03.030904+00:00 2020-06-12 22:27:04.837525+00:00\n",
      "11  2020-06-03 05:11:35.319122+00:00 2020-05-29 21:21:01.362364+00:00\n",
      "72  2020-09-18 07:45:25.761696+00:00 2020-06-12 22:30:08.558561+00:00\n",
      "84  2020-04-22 08:21:38.000390+00:00 2020-04-15 20:50:30.312191+00:00\n",
      "141 2020-08-11 22:27:58.255621+00:00 2020-08-11 22:27:55.367849+00:00\n"
     ]
    },
    {
     "name": "stderr",
     "output_type": "stream",
     "text": [
      "/tmp/ipykernel_20704/1478915124.py:5: SettingWithCopyWarning: \n",
      "A value is trying to be set on a copy of a slice from a DataFrame.\n",
      "Try using .loc[row_indexer,col_indexer] = value instead\n",
      "\n",
      "See the caveats in the documentation: https://pandas.pydata.org/pandas-docs/stable/user_guide/indexing.html#returning-a-view-versus-a-copy\n",
      "  cash_cohort['reco_last_update'] = pd.to_datetime(cash_cohort['reco_last_update'])\n",
      "/tmp/ipykernel_20704/1478915124.py:6: SettingWithCopyWarning: \n",
      "A value is trying to be set on a copy of a slice from a DataFrame.\n",
      "Try using .loc[row_indexer,col_indexer] = value instead\n",
      "\n",
      "See the caveats in the documentation: https://pandas.pydata.org/pandas-docs/stable/user_guide/indexing.html#returning-a-view-versus-a-copy\n",
      "  cash_cohort['reco_creation'] = pd.to_datetime(cash_cohort['reco_creation'])\n"
     ]
    }
   ],
   "source": [
    "#Now we can look at the average time between the recovery being created and the last update time (as per the lexique, we can understand this as the closure time for the incident)\n",
    "#convert 'reco_last_update' and 'reco_creation' to datetime format\n",
    "\n",
    "\n",
    "cash_cohort['reco_last_update'] = pd.to_datetime(cash_cohort['reco_last_update'])\n",
    "cash_cohort['reco_creation'] = pd.to_datetime(cash_cohort['reco_creation'])\n",
    "\n",
    "\n",
    "\n",
    "cash_cohort = cash_cohort.dropna(subset=['reco_last_update', 'reco_creation'])\n",
    "\n",
    "#we set a reimbursament range to check the time spend in resolving the incidents\n",
    "cash_cohort['reimbursement_range'] = (cash_cohort['reco_last_update'] - cash_cohort['reco_creation']).dt.days\n",
    "print(cash_cohort.dtypes)\n",
    "\n",
    "print(cash_cohort[['reco_last_update', 'reco_creation']].head())\n",
    "\n",
    "\n"
   ]
  },
  {
   "cell_type": "code",
   "execution_count": 38,
   "metadata": {},
   "outputs": [
    {
     "name": "stdout",
     "output_type": "stream",
     "text": [
      "Correlation 0.11455838690087314\n"
     ]
    }
   ],
   "source": [
    "correlation = cash_cohort['reimbursement_range'].corr(cash_cohort['amount'])\n",
    "print(\"Correlation\", correlation)\n",
    "\n",
    "#values almost 0 shows no correlations\n"
   ]
  },
  {
   "cell_type": "code",
   "execution_count": 39,
   "metadata": {},
   "outputs": [
    {
     "data": {
      "image/png": "[encoded data removed]",
      "text/plain": [
       "<Figure size 640x480 with 1 Axes>"
      ]
     },
     "metadata": {},
     "output_type": "display_data"
    }
   ],
   "source": [
    "#Boxplot\n",
    "sns.boxplot(x='reimbursement_range', y='amount', data=cash_cohort)\n",
    "plt.show()\n"
   ]
  },
  {
   "cell_type": "code",
   "execution_count": 40,
   "metadata": {},
   "outputs": [
    {
     "name": "stdout",
     "output_type": "stream",
     "text": [
      "Index(['id', 'user_id', 'amount', 'created_at', 'deleted_account_id',\n",
      "       'recovery_status', 'reco_creation', 'reco_last_update',\n",
      "       'reimbursement_range'],\n",
      "      dtype='object')\n"
     ]
    }
   ],
   "source": [
    "cash_cohort.head\n",
    "nom_columnas_cohort = cash_cohort.columns\n",
    "print(nom_columnas_cohort)"
   ]
  },
  {
   "cell_type": "code",
   "execution_count": 41,
   "metadata": {},
   "outputs": [
    {
     "name": "stdout",
     "output_type": "stream",
     "text": [
      "Index(['id', 'user_id', 'amount', 'created_at', 'deleted_account_id',\n",
      "       'recovery_status', 'reco_creation', 'reco_last_update',\n",
      "       'reimbursement_range'],\n",
      "      dtype='object')\n",
      "Coeficiente de correlación: 0.11455838690087314\n"
     ]
    }
   ],
   "source": [
    "print(cash_cohort.columns)\n",
    "\n",
    "correlation = cash_cohort['reimbursement_range'].corr(cash_cohort['amount'])\n",
    "print(\"Coeficiente de correlación:\", correlation)"
   ]
  },
  {
   "cell_type": "code",
   "execution_count": 42,
   "metadata": {},
   "outputs": [
    {
     "data": {
      "text/html": [
       "<div>\n",
       "<style scoped>\n",
       "    .dataframe tbody tr th:only-of-type {\n",
       "        vertical-align: middle;\n",
       "    }\n",
       "\n",
       "    .dataframe tbody tr th {\n",
       "        vertical-align: top;\n",
       "    }\n",
       "\n",
       "    .dataframe thead th {\n",
       "        text-align: right;\n",
       "    }\n",
       "</style>\n",
       "<table border=\"1\" class=\"dataframe\">\n",
       "  <thead>\n",
       "    <tr style=\"text-align: right;\">\n",
       "      <th></th>\n",
       "      <th>user_id</th>\n",
       "      <th>amount</th>\n",
       "      <th>recovery_status</th>\n",
       "      <th>reimbursement_range</th>\n",
       "    </tr>\n",
       "  </thead>\n",
       "  <tbody>\n",
       "    <tr>\n",
       "      <th>5</th>\n",
       "      <td>9489.0</td>\n",
       "      <td>100.0</td>\n",
       "      <td>completed</td>\n",
       "      <td>23</td>\n",
       "    </tr>\n",
       "    <tr>\n",
       "      <th>11</th>\n",
       "      <td>778.0</td>\n",
       "      <td>100.0</td>\n",
       "      <td>completed</td>\n",
       "      <td>4</td>\n",
       "    </tr>\n",
       "    <tr>\n",
       "      <th>72</th>\n",
       "      <td>10503.0</td>\n",
       "      <td>100.0</td>\n",
       "      <td>completed</td>\n",
       "      <td>97</td>\n",
       "    </tr>\n",
       "    <tr>\n",
       "      <th>84</th>\n",
       "      <td>4411.0</td>\n",
       "      <td>100.0</td>\n",
       "      <td>completed</td>\n",
       "      <td>6</td>\n",
       "    </tr>\n",
       "    <tr>\n",
       "      <th>141</th>\n",
       "      <td>23328.0</td>\n",
       "      <td>100.0</td>\n",
       "      <td>pending</td>\n",
       "      <td>0</td>\n",
       "    </tr>\n",
       "  </tbody>\n",
       "</table>\n",
       "</div>"
      ],
      "text/plain": [
       "     user_id  amount recovery_status  reimbursement_range\n",
       "5     9489.0   100.0       completed                   23\n",
       "11     778.0   100.0       completed                    4\n",
       "72   10503.0   100.0       completed                   97\n",
       "84    4411.0   100.0       completed                    6\n",
       "141  23328.0   100.0         pending                    0"
      ]
     },
     "execution_count": 42,
     "metadata": {},
     "output_type": "execute_result"
    }
   ],
   "source": [
    "risk_cohort = cash_cohort[['user_id','amount','recovery_status','reimbursement_range']] #now, we want to check the average time in days for solving incidents\n",
    "risk_cohort.head()"
   ]
  },
  {
   "cell_type": "code",
   "execution_count": 43,
   "metadata": {},
   "outputs": [
    {
     "name": "stdout",
     "output_type": "stream",
     "text": [
      "recovery_status\n",
      "completed               19.008509\n",
      "pending                 39.815385\n",
      "pending_direct_debit    86.000000\n",
      "Name: reimbursement_range, dtype: float64\n"
     ]
    }
   ],
   "source": [
    "#erase the cancelled status as it is only 1 record for it\n",
    "filtered_risk_cohort = risk_cohort[risk_cohort['recovery_status'] != 'cancelled']\n",
    "\n",
    "\n",
    "promedio_tiempo_resolucion = filtered_risk_cohort.groupby('recovery_status')['reimbursement_range'].mean()\n",
    "\n",
    "\n",
    "print(promedio_tiempo_resolucion)\n",
    "#we can see in days the average time per recovery status\n"
   ]
  },
  {
   "cell_type": "code",
   "execution_count": 44,
   "metadata": {},
   "outputs": [
    {
     "ename": "NameError",
     "evalue": "name 'recovery_status' is not defined",
     "output_type": "error",
     "traceback": [
      "\u001b[0;31m---------------------------------------------------------------------------\u001b[0m",
      "\u001b[0;31mNameError\u001b[0m                                 Traceback (most recent call last)",
      "Cell \u001b[0;32mIn[44], line 3\u001b[0m\n\u001b[1;32m      1\u001b[0m plt\u001b[38;5;241m.\u001b[39mfigure(figsize\u001b[38;5;241m=\u001b[39m(\u001b[38;5;241m5\u001b[39m, \u001b[38;5;241m3\u001b[39m))\n\u001b[1;32m      2\u001b[0m sns\u001b[38;5;241m.\u001b[39mbarplot(x\u001b[38;5;241m=\u001b[39mpromedio_tiempo_resolucion\u001b[38;5;241m.\u001b[39mindex, y\u001b[38;5;241m=\u001b[39mpromedio_tiempo_resolucion\u001b[38;5;241m.\u001b[39mvalues)\n\u001b[0;32m----> 3\u001b[0m plt\u001b[38;5;241m.\u001b[39mbar(\u001b[43mrecovery_status\u001b[49m, promedio_tiempo_resolucion, color\u001b[38;5;241m=\u001b[39m[\u001b[38;5;124m'\u001b[39m\u001b[38;5;124mgreen\u001b[39m\u001b[38;5;124m'\u001b[39m, \u001b[38;5;124m'\u001b[39m\u001b[38;5;124morange\u001b[39m\u001b[38;5;124m'\u001b[39m, \u001b[38;5;124m'\u001b[39m\u001b[38;5;124mred\u001b[39m\u001b[38;5;124m'\u001b[39m])\n\u001b[1;32m      5\u001b[0m plt\u001b[38;5;241m.\u001b[39mxlabel(\u001b[38;5;124m'\u001b[39m\u001b[38;5;124mRecovery status\u001b[39m\u001b[38;5;124m'\u001b[39m)\n\u001b[1;32m      6\u001b[0m plt\u001b[38;5;241m.\u001b[39mylabel(\u001b[38;5;124m'\u001b[39m\u001b[38;5;124mAverage closure time\u001b[39m\u001b[38;5;124m'\u001b[39m)\n",
      "\u001b[0;31mNameError\u001b[0m: name 'recovery_status' is not defined"
     ]
    },
    {
     "data": {
      "image/png": "[encoded data removed]",
      "text/plain": [
       "<Figure size 500x300 with 1 Axes>"
      ]
     },
     "metadata": {},
     "output_type": "display_data"
    }
   ],
   "source": [
    "plt.figure(figsize=(5, 3))\n",
    "sns.barplot(x=promedio_tiempo_resolucion.index, y=promedio_tiempo_resolucion.values)\n",
    "plt.bar(recovery_status, promedio_tiempo_resolucion, color=['green', 'orange', 'red'])\n",
    "\n",
    "plt.xlabel('Recovery status')\n",
    "plt.ylabel('Average closure time')\n",
    "plt.show()"
   ]
  },
  {
   "cell_type": "code",
   "execution_count": null,
   "metadata": {},
   "outputs": [],
   "source": []
  },
  {
   "cell_type": "code",
   "execution_count": 45,
   "metadata": {},
   "outputs": [
    {
     "name": "stdout",
     "output_type": "stream",
     "text": [
      "Average amount per recovery_status\n",
      "cancelled               100.000000\n",
      "completed                79.032010\n",
      "pending                  76.714793\n",
      "pending_direct_debit     82.500000\n",
      "Name: amount, dtype: float64\n"
     ]
    }
   ],
   "source": [
    "\n",
    "average_amount = cash_cohort.groupby('recovery_status')['amount'].mean()\n",
    "\n",
    "print(\"Average amount per\",average_amount)\n"
   ]
  },
  {
   "cell_type": "code",
   "execution_count": 46,
   "metadata": {},
   "outputs": [
    {
     "data": {
      "image/png": "[encoded data removed]",
      "text/plain": [
       "<Figure size 500x300 with 2 Axes>"
      ]
     },
     "metadata": {},
     "output_type": "display_data"
    }
   ],
   "source": [
    "# Group by 'recovery_status' and 'reimbursement_range_weeks' and count the number of users in each group\n",
    "cohort_amounts = filtered_risk_cohort.groupby(['recovery_status', 'amount']).size().unstack()\n",
    "pivot_amounts = filtered_risk_cohort.pivot_table(index='recovery_status', columns='amount', aggfunc='size', fill_value=0)\n",
    "\n",
    "triangle = np.zeros_like(pivot_amounts, dtype=bool)\n",
    "triangle[np.triu_indices_from(triangle)] = True\n",
    "\n",
    "\n",
    "plt.figure(figsize=(5, 3))\n",
    "sns.heatmap(pivot_amounts, annot=True, fmt='d', cmap='Blues', mask=triangle)\n",
    "\n",
    "plt.xlabel('Amount')\n",
    "plt.ylabel('Recovery status')\n",
    "plt.show()\n",
    "\n"
   ]
  },
  {
   "cell_type": "code",
   "execution_count": 47,
   "metadata": {},
   "outputs": [
    {
     "name": "stdout",
     "output_type": "stream",
     "text": [
      "recovery_status\n",
      "completed               200.0\n",
      "pending                 100.0\n",
      "pending_direct_debit    100.0\n",
      "Name: amount, dtype: float64\n"
     ]
    }
   ],
   "source": [
    "#as the heatmap returns not a usable information, we need to filter better to understand the data\n",
    "max_amount = filtered_risk_cohort.groupby('recovery_status')['amount'].max()\n",
    "\n",
    "print(max_amount)\n"
   ]
  },
  {
   "cell_type": "code",
   "execution_count": 48,
   "metadata": {},
   "outputs": [
    {
     "name": "stdout",
     "output_type": "stream",
     "text": [
      "1\n"
     ]
    }
   ],
   "source": [
    "completed_over_100 = filtered_risk_cohort[(filtered_risk_cohort['recovery_status'] == 'completed') & (filtered_risk_cohort['amount'] > 100)]\n",
    "\n",
    "num_users_completed_over_100 = len(completed_over_100)\n",
    "\n",
    "print(num_users_completed_over_100) #we want to check if the user qty is high, this will affect to the total, if not, we can delete it \n",
    "\n",
    "#after printing we see that only 1 user (also, for completed status, was the one affecting the graphic"
   ]
  },
  {
   "cell_type": "code",
   "execution_count": 49,
   "metadata": {},
   "outputs": [
    {
     "name": "stdout",
     "output_type": "stream",
     "text": [
      "recovery_status       amount\n",
      "completed             100.0     1522\n",
      "                      50.0       639\n",
      "                      25.0       200\n",
      "                      70.0        23\n",
      "                      80.0        17\n",
      "                      20.0        16\n",
      "                      60.0        15\n",
      "                      30.0        10\n",
      "                      40.0         8\n",
      "                      90.0         6\n",
      "                      10.0         4\n",
      "                      45.0         2\n",
      "                      11.0         1\n",
      "                      15.0         1\n",
      "                      35.0         1\n",
      "                      65.0         1\n",
      "                      95.0         1\n",
      "pending               100.0      504\n",
      "                      50.0       213\n",
      "                      25.0       102\n",
      "                      20.0         5\n",
      "                      40.0         5\n",
      "                      80.0         4\n",
      "                      30.0         3\n",
      "                      10.0         2\n",
      "                      60.0         2\n",
      "                      70.0         2\n",
      "                      45.0         1\n",
      "                      90.0         1\n",
      "                      99.0         1\n",
      "pending_direct_debit  100.0       11\n",
      "                      50.0         3\n",
      "                      25.0         1\n",
      "                      45.0         1\n",
      "Name: count, dtype: int64\n"
     ]
    },
    {
     "name": "stderr",
     "output_type": "stream",
     "text": [
      "/tmp/ipykernel_20704/2129638722.py:4: SettingWithCopyWarning: \n",
      "A value is trying to be set on a copy of a slice from a DataFrame\n",
      "\n",
      "See the caveats in the documentation: https://pandas.pydata.org/pandas-docs/stable/user_guide/indexing.html#returning-a-view-versus-a-copy\n",
      "  filtered_risk_cohort.drop(completed_over_100_index, inplace=True)\n"
     ]
    }
   ],
   "source": [
    "# so we filter and delete this user from our df\n",
    "completed_over_100_index = filtered_risk_cohort[(filtered_risk_cohort['recovery_status'] == 'completed') & (filtered_risk_cohort['amount'] > 100)].index\n",
    "\n",
    "filtered_risk_cohort.drop(completed_over_100_index, inplace=True)\n",
    "\n",
    "#and nowm, we filter to show again if there is amounts with low users\n",
    "amount_counts_by_status = filtered_risk_cohort.groupby('recovery_status')['amount'].value_counts()\n",
    "print(amount_counts_by_status)\n",
    "\n",
    "\n"
   ]
  },
  {
   "cell_type": "code",
   "execution_count": 50,
   "metadata": {},
   "outputs": [
    {
     "name": "stdout",
     "output_type": "stream",
     "text": [
      "recovery_status\n",
      "completed               78.982975\n",
      "pending                 76.714793\n",
      "pending_direct_debit    82.500000\n",
      "Name: amount, dtype: float64\n"
     ]
    }
   ],
   "source": [
    "average_amount_by_status = filtered_risk_cohort.groupby('recovery_status')['amount'].mean()\n",
    "print(average_amount_by_status)\n",
    "#this is the avergae amount waiting to be reimbursed, and we need to check with the amount of user to understand the monetary impact of these incidents"
   ]
  },
  {
   "cell_type": "code",
   "execution_count": 51,
   "metadata": {},
   "outputs": [
    {
     "name": "stdout",
     "output_type": "stream",
     "text": [
      "Total debt: recovery_status\n",
      "completed               194851.0\n",
      "pending                  64824.0\n",
      "pending_direct_debit      1320.0\n",
      "Name: amount, dtype: float64\n"
     ]
    }
   ],
   "source": [
    "total_amount_by_status = filtered_risk_cohort.groupby('recovery_status')['amount'].sum()\n",
    "print(\"Total debt:\",total_amount_by_status)\n"
   ]
  },
  {
   "cell_type": "markdown",
   "metadata": {},
   "source": [
    "### **Understanding the quantitative information of the picture** ###\n",
    "Is not only the rate of incidents, is the amount of money that we cannot have back to the company. Depend on the total amoun of users/reimbursement this may affect to the cashflow"
   ]
  },
  {
   "cell_type": "code",
   "execution_count": 52,
   "metadata": {},
   "outputs": [
    {
     "data": {
      "image/png": "[encoded data removed]",
      "text/plain": [
       "<Figure size 300x200 with 1 Axes>"
      ]
     },
     "metadata": {},
     "output_type": "display_data"
    }
   ],
   "source": [
    "#graphics\n",
    "plt.figure(figsize=(3, 2))\n",
    "total_amount_by_status.plot(kind='bar', color='skyblue')\n",
    "\n",
    "# Añadir título y etiquetas\n",
    "plt.title('Total amount per status')\n",
    "plt.xlabel('Status')\n",
    "plt.ylabel('Amount to be reimbursed')\n",
    "\n",
    "plt.show()"
   ]
  },
  {
   "cell_type": "code",
   "execution_count": 53,
   "metadata": {},
   "outputs": [
    {
     "data": {
      "image/png": "[encoded data removed]",
      "text/plain": [
       "<Figure size 1500x300 with 2 Axes>"
      ]
     },
     "metadata": {},
     "output_type": "display_data"
    }
   ],
   "source": [
    "heatmap_data = amount_counts_by_status.unstack()\n",
    "\n",
    "plt.figure(figsize=(15, 3))\n",
    "sns.heatmap(heatmap_data, annot=True, fmt='g', cmap='Blues')\n",
    "\n",
    "plt.xlabel('Amount')\n",
    "plt.ylabel('Recovery Status')\n",
    "plt.show()"
   ]
  },
  {
   "cell_type": "code",
   "execution_count": 120,
   "metadata": {},
   "outputs": [
    {
     "name": "stdout",
     "output_type": "stream",
     "text": [
      "recovery_status       amount\n",
      "completed             100.0     1522\n",
      "                      50.0       639\n",
      "                      25.0       200\n",
      "                      70.0        23\n",
      "                      80.0        17\n",
      "                      20.0        16\n",
      "                      60.0        15\n",
      "                      30.0        10\n",
      "                      40.0         8\n",
      "                      90.0         6\n",
      "pending               100.0      504\n",
      "                      50.0       213\n",
      "                      25.0       102\n",
      "pending_direct_debit  100.0       11\n",
      "Name: count, dtype: int64\n"
     ]
    },
    {
     "data": {
      "text/plain": [
       "<Figure size 1000x600 with 0 Axes>"
      ]
     },
     "metadata": {},
     "output_type": "display_data"
    },
    {
     "data": {
      "image/png": "[encoded data removed]",
      "text/plain": [
       "<Figure size 1000x300 with 2 Axes>"
      ]
     },
     "metadata": {},
     "output_type": "display_data"
    }
   ],
   "source": [
    "#we prefer to check and clean the data to see the most representative values\n",
    "completed_filtered = filtered_risk_cohort[(filtered_risk_cohort['recovery_status'] == 'completed') & (filtered_risk_cohort['amount'] > 100)]\n",
    "\n",
    "#Then, we obtain the amounts with 5 or fewer people\n",
    "amount_counts = completed_filtered['amount'].value_counts()\n",
    "amounts_to_exclude = amount_counts[amount_counts <= 5].index\n",
    "filtered_completed = completed_filtered[~completed_filtered['amount'].isin(amounts_to_exclude)]\n",
    "\n",
    "# Filtered_completed now contains data for the \"completed\" status with amounts greater than 100 and with more than 5 people\n",
    "amount_counts_by_status_filtered = amount_counts_by_status[amount_counts_by_status > 5]\n",
    "\n",
    "\n",
    "print(amount_counts_by_status_filtered)\n",
    "plt.figure(figsize=(10, 6))\n",
    "heatmap_data = amount_counts_by_status_filtered.unstack()\n",
    "heatmap_data = heatmap_data.sort_index(axis=1)\n",
    "\n",
    "# \n",
    "plt.figure(figsize=(10, 3))\n",
    "sns.heatmap(heatmap_data, annot=True, fmt='g', cmap='Blues')\n",
    "plt.xlabel('Amount')\n",
    "plt.ylabel('Recovery Status')\n",
    "plt.show()"
   ]
  },
  {
   "cell_type": "code",
   "execution_count": 129,
   "metadata": {},
   "outputs": [
    {
     "name": "stdout",
     "output_type": "stream",
     "text": [
      "        recovery_status  average_time  average_amount\n",
      "0             completed     19.008509        194851.0\n",
      "1               pending     39.815385         64824.0\n",
      "2  pending_direct_debit     86.000000          1320.0\n"
     ]
    }
   ],
   "source": [
    "recovery_status = ['completed', 'pending', 'pending_direct_debit']\n",
    "average_time = [19.008509, 39.815385, 86.000000]\n",
    "average_amount = [194851.0, 64824.0, 1320.0]\n",
    "\n",
    "#new dataframe for grpahics\n",
    "df_new = pd.DataFrame({'recovery_status': recovery_status,'average_time': average_time, 'average_amount': average_amount})\n",
    "\n",
    "print(df_new)"
   ]
  },
  {
   "cell_type": "markdown",
   "metadata": {},
   "source": [
    "### **Integrating all the information to have a global vision**\n",
    "The system is not perfect. The people is not perfect. We must try to bring some clarity to the details that will help us to improve"
   ]
  },
  {
   "cell_type": "code",
   "execution_count": 121,
   "metadata": {
    "scrolled": true
   },
   "outputs": [
    {
     "data": {
      "image/png": "[encoded data removed]",
      "text/plain": [
       "<Figure size 640x480 with 1 Axes>"
      ]
     },
     "metadata": {},
     "output_type": "display_data"
    }
   ],
   "source": [
    "recovery_status = ['completed', 'pending', 'pending_direct_debit']\n",
    "average_time = [19.008509, 39.815385, 86.000000]\n",
    "average_amount = [194851.0, 64824.0, 1320.0]\n",
    "\n",
    "#mapping\n",
    "status_mapping = {'completed': 1, 'pending': 2, 'pending_direct_debit': 3}\n",
    "x_values = [status_mapping[status] for status in recovery_status]\n",
    "\n",
    "\n",
    "dx = np.ones_like(x_values) \n",
    "dy = np.ones_like(average_time) \n",
    "dz = average_amount \n",
    "colors = ['green', 'yellow', 'red']\n",
    "\n",
    "# Crear figura y ejes 3D\n",
    "fig = plt.figure()\n",
    "ax = fig.add_subplot(111, projection='3d')\n",
    "\n",
    "# Graficar las barras\n",
    "for i in range(len(x_values)):\n",
    "    ax.bar3d(x_values[i], average_time[i], 0, dx[i], dy[i], dz[i], color=colors[i])\n",
    "\n",
    "\n",
    "#labels\n",
    "ax.set_xlabel('Recov Status')\n",
    "ax.set_xticks([0.5, 1.5, 2.5])\n",
    "ax.set_xticklabels(['Completed', 'Pending', 'Pending DD'])\n",
    "ax.set_ylabel('Average Days')\n",
    "ax.set_yticks([20, 40, 60, 80])\n",
    "ax.set_zlabel('Average Amount')\n",
    "\n",
    "\n",
    "plt.show()"
   ]
  },
  {
   "cell_type": "code",
   "execution_count": 122,
   "metadata": {},
   "outputs": [],
   "source": [
    "#According to the comparison, although those with pending DD take much longer than the rest to resolve the incident\n",
    "#the amount is not representative, so no recovery effort should be devoted to it. \n",
    "#You have to focus on what has an average time and the most important amount to be able to apply actions"
   ]
  },
  {
   "cell_type": "markdown",
   "metadata": {},
   "source": [
    "### **Focus on what is under the company's control**\n",
    "Can we check if there are recurrent users that have incidents? is something about the system itself?is about the payment records of the user?\n",
    "Can we establish a different policy on fees with penalties or compensation for time?\n",
    "\n",
    "We should track these factors in order to don't let holes appear in the whole cashflow"
   ]
  },
  {
   "cell_type": "markdown",
   "metadata": {},
   "source": [
    "Some ideas:\n",
    "- extra fee when payment exceeds X days\n",
    "- time penalty without allowing the same user to request an amount( or only up to a specific amount)\n",
    "- amortization with 0% fee\n",
    "- ..."
   ]
  },
  {
   "cell_type": "markdown",
   "metadata": {},
   "source": [
    "We need more discussing about these points "
   ]
  },
  {
   "cell_type": "markdown",
   "metadata": {},
   "source": []
  }
 ],
 "metadata": {
  "kernelspec": {
   "display_name": "Python 3 (ipykernel)",
   "language": "python",
   "name": "python3"
  },
  "language_info": {
   "codemirror_mode": {
    "name": "ipython",
    "version": 3
   },
   "file_extension": ".py",
   "mimetype": "text/x-python",
   "name": "python",
   "nbconvert_exporter": "python",
   "pygments_lexer": "ipython3",
   "version": "3.10.12"
  }
 },
 "nbformat": 4,
 "nbformat_minor": 4
}
